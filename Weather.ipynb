{
 "cells": [
  {
   "cell_type": "markdown",
   "id": "b1d920f9-4321-410e-86ab-1c6c51b53656",
   "metadata": {},
   "source": [
    "# Include Weather"
   ]
  },
  {
   "cell_type": "code",
   "execution_count": 1,
   "id": "4bb21ce2-da12-4520-9599-87f5b7b30c15",
   "metadata": {},
   "outputs": [],
   "source": [
    "import pandas as pd\n",
    "import numpy as np\n",
    "  \n",
    "# importing matplotlib module\n",
    "import matplotlib.pyplot as plt\n",
    "plt.style.use('default')\n",
    "  \n",
    "# %matplotlib inline: only draw static\n",
    "# images in the notebook\n",
    "%matplotlib inline\n",
    "\n",
    "import plotly.express as px\n",
    "\n",
    "import matplotlib.pyplot as plt\n",
    "import numpy as np\n",
    "from sklearn import datasets, linear_model\n",
    "from sklearn.metrics import mean_squared_error, r2_score\n",
    "import pandas as pd"
   ]
  },
  {
   "cell_type": "code",
   "execution_count": 167,
   "id": "9f967f0d-01d0-4f9a-866d-5e46ec82335d",
   "metadata": {},
   "outputs": [],
   "source": [
    "path = \"./9b._U.S._Regional_Macroeconomic_Data.csv\"\n",
    "Macro = pd.read_csv(path, on_bad_lines='skip')\n",
    "path = \"./7d._U.S._Regional_Electricity_Generation_Electric_Power_Sector.csv\"\n",
    "E_Gen = pd.read_csv(path, on_bad_lines='skip')\n",
    "path = \"./9c._U.S._Regional_Weather_Data.csv\"\n",
    "HD = pd.read_csv(path, on_bad_lines='skip')\n"
   ]
  },
  {
   "cell_type": "code",
   "execution_count": 168,
   "id": "73c32146-8f86-40ab-9ddd-25a18a61fe99",
   "metadata": {},
   "outputs": [],
   "source": [
    "##NEW ENGLAND ECONOMIC INDICATORS##\n",
    "New_England=Macro[(Macro == 'Middle Atlantic').any(axis=1)] #for new england only \n",
    "New_England = New_England.drop([\"remove\",\"map\",\"linechart\",\"units\",\"source key\"], axis=1)\n",
    "New_England=New_England"
   ]
  },
  {
   "cell_type": "code",
   "execution_count": 169,
   "id": "3d710a98-9079-425a-a759-92aa32f47bbf",
   "metadata": {},
   "outputs": [],
   "source": [
    "##GET \n",
    "E_Gen_NE = E_Gen.iloc[18:26,:]#New England\n",
    "E_Gen_NE_Nonhydro=E_Gen_NE[(E_Gen_NE==\"Nonhydro renewables\").any(axis=1)]\n",
    "E_Gen_NE_Nonhydro=E_Gen_NE_Nonhydro.drop([\"remove\",\"map\",\"linechart\",\"units\",\"source key\"], axis=1)"
   ]
  },
  {
   "cell_type": "code",
   "execution_count": 170,
   "id": "867351bc-f7df-4beb-8a79-d701b24cc3fd",
   "metadata": {},
   "outputs": [],
   "source": [
    "HD=HD.iloc[1:11]\n",
    "HD=HD[(HD==\"Middle Atlantic\").any(axis=1)]\n",
    "HD=HD.drop([\"remove\",\"map\",\"linechart\",\"units\",\"source key\"], axis=1)\n"
   ]
  },
  {
   "cell_type": "code",
   "execution_count": 171,
   "id": "b35b7ecf-42ad-496d-b1f9-485199f081ae",
   "metadata": {},
   "outputs": [],
   "source": [
    "reg_data=pd.concat([E_Gen_NE_Nonhydro, New_England,HD], ignore_index=True, axis=0).T\n",
    "reg_data.columns = reg_data.iloc[0] \n",
    "reg_data = reg_data.drop(\"Unnamed: 1\").T"
   ]
  },
  {
   "cell_type": "code",
   "execution_count": 172,
   "id": "bbd5397e-5a3d-4fb5-b2fa-20e8c929be7b",
   "metadata": {},
   "outputs": [],
   "source": [
    "reg_data=reg_data.to_numpy()"
   ]
  },
  {
   "cell_type": "code",
   "execution_count": 173,
   "id": "580ff8fa-c444-4bcc-87d1-9e39946f62c8",
   "metadata": {},
   "outputs": [
    {
     "data": {
      "text/plain": [
       "array([[99.9, 100.3, 100.5, 99.9, 98.5, 97.7, 97.1, 96.3, 95.2, 79.9,\n",
       "        90.2, 92.4, 93.0, 94.3, 94.6, 95.6, 96.4, 97.1, 96.6, 96.0, 94.0,\n",
       "        93.8, 93.8, 94.4, 94.9, 95.4, 95.9, 96.6],\n",
       "       [2253.0, 2264.0, 2286.0, 2295.0, 2327.0, 2334.0, 2338.0, 2342.0,\n",
       "        2350.0, 2534.0, 2479.0, 2412.0, 2660.0, 2498.0, 2477.0, 2439.0,\n",
       "        2414.0, 2393.0, 2394.0, 2401.0, 2417.0, 2418.0, 2422.0, 2431.0,\n",
       "        2446.0, 2461.0, 2475.0, 2490.0],\n",
       "       [16240.0, 16265.0, 16296.0, 16328.0, 16360.0, 16402.0, 16430.0,\n",
       "        16457.0, 16352.0, 16267.0, 16204.0, 16139.0, 16071.0, 16040.0,\n",
       "        16076.0, 16101.0, 16123.0, 16115.0, 16114.0, 16125.0, 16140.0,\n",
       "        16161.0, 16180.0, 16202.0, 16224.0, 16248.0, 16273.0, 16300.0],\n",
       "       [19.8, 19.8, 19.9, 20.0, 20.0, 20.0, 20.1, 20.1, 20.1, 16.7, 17.9,\n",
       "        18.4, 18.5, 18.7, 18.9, 19.2, 19.4, 19.6, 19.7, 19.8, 20.0, 19.9,\n",
       "        19.8, 19.8, 19.8, 19.8, 19.8, 19.8],\n",
       "       [2942.0, 755.0, 37.0, 2050.0, 2985.0, 635.0, 68.0, 2065.0, 2466.0,\n",
       "        834.0, 85.0, 1829.0, 2822.0, 669.0, 57.0, 1727.0, 2944.0, 673.0,\n",
       "        74.0, 1968.0, 2435.0, 687.0, 81.0, 1941.0, 2817.0, 672.0, 81.0,\n",
       "        1941.0]], dtype=object)"
      ]
     },
     "execution_count": 173,
     "metadata": {},
     "output_type": "execute_result"
    }
   ],
   "source": [
    "w_Nonhydro=reg_data[0,]\n",
    "w_indicators=reg_data[1:,]\n",
    "w_indicators"
   ]
  },
  {
   "cell_type": "code",
   "execution_count": 174,
   "id": "d508f1c2-c4b9-4f34-9d5d-839d4c9cdd85",
   "metadata": {},
   "outputs": [],
   "source": [
    "df_ind = pd.DataFrame(w_indicators).T\n",
    "df_out= pd.DataFrame(w_Nonhydro)\n",
    "df_out_train=df_out[:-2]\n",
    "df_out_test=df_out[25:]\n",
    "df_ind_train=df_ind[:-2]\n",
    "df_ind_test=df_ind[27:]\n"
   ]
  },
  {
   "cell_type": "code",
   "execution_count": 175,
   "id": "9e4ca398-c1dc-403d-8dea-34f649fcce2b",
   "metadata": {},
   "outputs": [],
   "source": [
    "regr = linear_model.LinearRegression()"
   ]
  },
  {
   "cell_type": "code",
   "execution_count": 176,
   "id": "baaf7964-59d7-4652-9562-a3bea85f02b1",
   "metadata": {},
   "outputs": [
    {
     "data": {
      "text/html": [
       "<style>#sk-container-id-14 {color: black;background-color: white;}#sk-container-id-14 pre{padding: 0;}#sk-container-id-14 div.sk-toggleable {background-color: white;}#sk-container-id-14 label.sk-toggleable__label {cursor: pointer;display: block;width: 100%;margin-bottom: 0;padding: 0.3em;box-sizing: border-box;text-align: center;}#sk-container-id-14 label.sk-toggleable__label-arrow:before {content: \"▸\";float: left;margin-right: 0.25em;color: #696969;}#sk-container-id-14 label.sk-toggleable__label-arrow:hover:before {color: black;}#sk-container-id-14 div.sk-estimator:hover label.sk-toggleable__label-arrow:before {color: black;}#sk-container-id-14 div.sk-toggleable__content {max-height: 0;max-width: 0;overflow: hidden;text-align: left;background-color: #f0f8ff;}#sk-container-id-14 div.sk-toggleable__content pre {margin: 0.2em;color: black;border-radius: 0.25em;background-color: #f0f8ff;}#sk-container-id-14 input.sk-toggleable__control:checked~div.sk-toggleable__content {max-height: 200px;max-width: 100%;overflow: auto;}#sk-container-id-14 input.sk-toggleable__control:checked~label.sk-toggleable__label-arrow:before {content: \"▾\";}#sk-container-id-14 div.sk-estimator input.sk-toggleable__control:checked~label.sk-toggleable__label {background-color: #d4ebff;}#sk-container-id-14 div.sk-label input.sk-toggleable__control:checked~label.sk-toggleable__label {background-color: #d4ebff;}#sk-container-id-14 input.sk-hidden--visually {border: 0;clip: rect(1px 1px 1px 1px);clip: rect(1px, 1px, 1px, 1px);height: 1px;margin: -1px;overflow: hidden;padding: 0;position: absolute;width: 1px;}#sk-container-id-14 div.sk-estimator {font-family: monospace;background-color: #f0f8ff;border: 1px dotted black;border-radius: 0.25em;box-sizing: border-box;margin-bottom: 0.5em;}#sk-container-id-14 div.sk-estimator:hover {background-color: #d4ebff;}#sk-container-id-14 div.sk-parallel-item::after {content: \"\";width: 100%;border-bottom: 1px solid gray;flex-grow: 1;}#sk-container-id-14 div.sk-label:hover label.sk-toggleable__label {background-color: #d4ebff;}#sk-container-id-14 div.sk-serial::before {content: \"\";position: absolute;border-left: 1px solid gray;box-sizing: border-box;top: 0;bottom: 0;left: 50%;z-index: 0;}#sk-container-id-14 div.sk-serial {display: flex;flex-direction: column;align-items: center;background-color: white;padding-right: 0.2em;padding-left: 0.2em;position: relative;}#sk-container-id-14 div.sk-item {position: relative;z-index: 1;}#sk-container-id-14 div.sk-parallel {display: flex;align-items: stretch;justify-content: center;background-color: white;position: relative;}#sk-container-id-14 div.sk-item::before, #sk-container-id-14 div.sk-parallel-item::before {content: \"\";position: absolute;border-left: 1px solid gray;box-sizing: border-box;top: 0;bottom: 0;left: 50%;z-index: -1;}#sk-container-id-14 div.sk-parallel-item {display: flex;flex-direction: column;z-index: 1;position: relative;background-color: white;}#sk-container-id-14 div.sk-parallel-item:first-child::after {align-self: flex-end;width: 50%;}#sk-container-id-14 div.sk-parallel-item:last-child::after {align-self: flex-start;width: 50%;}#sk-container-id-14 div.sk-parallel-item:only-child::after {width: 0;}#sk-container-id-14 div.sk-dashed-wrapped {border: 1px dashed gray;margin: 0 0.4em 0.5em 0.4em;box-sizing: border-box;padding-bottom: 0.4em;background-color: white;}#sk-container-id-14 div.sk-label label {font-family: monospace;font-weight: bold;display: inline-block;line-height: 1.2em;}#sk-container-id-14 div.sk-label-container {text-align: center;}#sk-container-id-14 div.sk-container {/* jupyter's `normalize.less` sets `[hidden] { display: none; }` but bootstrap.min.css set `[hidden] { display: none !important; }` so we also need the `!important` here to be able to override the default hidden behavior on the sphinx rendered scikit-learn.org. See: https://github.com/scikit-learn/scikit-learn/issues/21755 */display: inline-block !important;position: relative;}#sk-container-id-14 div.sk-text-repr-fallback {display: none;}</style><div id=\"sk-container-id-14\" class=\"sk-top-container\"><div class=\"sk-text-repr-fallback\"><pre>LinearRegression()</pre><b>In a Jupyter environment, please rerun this cell to show the HTML representation or trust the notebook. <br />On GitHub, the HTML representation is unable to render, please try loading this page with nbviewer.org.</b></div><div class=\"sk-container\" hidden><div class=\"sk-item\"><div class=\"sk-estimator sk-toggleable\"><input class=\"sk-toggleable__control sk-hidden--visually\" id=\"sk-estimator-id-14\" type=\"checkbox\" checked><label for=\"sk-estimator-id-14\" class=\"sk-toggleable__label sk-toggleable__label-arrow\">LinearRegression</label><div class=\"sk-toggleable__content\"><pre>LinearRegression()</pre></div></div></div></div></div>"
      ],
      "text/plain": [
       "LinearRegression()"
      ]
     },
     "execution_count": 176,
     "metadata": {},
     "output_type": "execute_result"
    }
   ],
   "source": [
    "regr.fit(df_ind_train,df_out_train)"
   ]
  },
  {
   "cell_type": "code",
   "execution_count": 177,
   "id": "ae145de7-a872-45e2-9b23-9de2477edc04",
   "metadata": {},
   "outputs": [
    {
     "name": "stdout",
     "output_type": "stream",
     "text": [
      "Coefficients: \n",
      " [[-8.99582456e+00  4.54288974e-01 -4.17289408e-01  1.74111124e+02\n",
      "  -1.17205048e-02]]\n"
     ]
    }
   ],
   "source": [
    "#nonhydro_pred = regr.predict()\n",
    "\n",
    "print(\"Coefficients: \\n\", regr.coef_)\n",
    "\n",
    "#print(\"Mean squared error: %.2f\" % mean_squared_error(df_out_test, nonhydro_pred))"
   ]
  },
  {
   "cell_type": "code",
   "execution_count": null,
   "id": "f8c1fc8e-47fb-4acf-b39d-b774442c4284",
   "metadata": {},
   "outputs": [],
   "source": []
  }
 ],
 "metadata": {
  "kernelspec": {
   "display_name": "Python 3 (ipykernel)",
   "language": "python",
   "name": "python3"
  },
  "language_info": {
   "codemirror_mode": {
    "name": "ipython",
    "version": 3
   },
   "file_extension": ".py",
   "mimetype": "text/x-python",
   "name": "python",
   "nbconvert_exporter": "python",
   "pygments_lexer": "ipython3",
   "version": "3.9.13"
  }
 },
 "nbformat": 4,
 "nbformat_minor": 5
}
