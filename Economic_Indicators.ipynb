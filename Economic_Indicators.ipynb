{
 "cells": [
  {
   "cell_type": "code",
   "execution_count": 2,
   "id": "f36ef98f-5315-4da7-9401-9b3dcab71a91",
   "metadata": {},
   "outputs": [],
   "source": [
    "import pandas as pd\n",
    "import numpy as np\n",
    "  \n",
    "# importing matplotlib module\n",
    "import matplotlib.pyplot as plt\n",
    "plt.style.use('default')\n",
    "  \n",
    "# %matplotlib inline: only draw static\n",
    "# images in the notebook\n",
    "%matplotlib inline\n",
    "\n",
    "import plotly.express as px\n",
    "\n",
    "import matplotlib.pyplot as plt\n",
    "import numpy as np\n",
    "from sklearn import datasets, linear_model\n",
    "from sklearn.metrics import mean_squared_error, r2_score\n",
    "import pandas as pd"
   ]
  },
  {
   "cell_type": "code",
   "execution_count": 3,
   "id": "2a9c16f9-31a1-4b2b-bf27-955c1f1b4751",
   "metadata": {},
   "outputs": [],
   "source": [
    "path = \"./9b._U.S._Regional_Macroeconomic_Data.csv\"\n",
    "Macro = pd.read_csv(path, on_bad_lines='skip')\n",
    "path = \"./7d._U.S._Regional_Electricity_Generation_Electric_Power_Sector.csv\"\n",
    "E_Gen = pd.read_csv(path, on_bad_lines='skip')\n"
   ]
  },
  {
   "cell_type": "markdown",
   "id": "37926b00-ff7a-4ecc-b019-97876448149e",
   "metadata": {},
   "source": [
    "# New England"
   ]
  },
  {
   "cell_type": "code",
   "execution_count": 18,
   "id": "3c31d0b2-91ec-4e10-80dc-575be4bba75f",
   "metadata": {},
   "outputs": [],
   "source": [
    "##NEW ENGLAND ECONOMIC INDICATORS##\n",
    "New_England=Macro[(Macro == 'New England').any(axis=1)] #for new england only \n",
    "New_England = New_England.drop([\"remove\",\"map\",\"linechart\",\"units\",\"source key\"], axis=1)\n",
    "New_England=New_England"
   ]
  },
  {
   "cell_type": "markdown",
   "id": "c2321301-38dc-404c-8d77-952fda89cdb5",
   "metadata": {},
   "source": [
    "## Nuclear"
   ]
  },
  {
   "cell_type": "code",
   "execution_count": 19,
   "id": "64a37d46-d01c-45cb-be19-a4b33b1e6060",
   "metadata": {},
   "outputs": [],
   "source": [
    "##GET \n",
    "E_Gen_NE = E_Gen.iloc[18:26,:]#New England\n",
    "E_Gen_NE_Nuclear=E_Gen_NE[(E_Gen_NE==\"Nuclear\").any(axis=1)]\n",
    "E_Gen_NE_Nuclear=E_Gen_NE_Nuclear.drop([\"remove\",\"map\",\"linechart\",\"units\",\"source key\"], axis=1)\n"
   ]
  },
  {
   "cell_type": "code",
   "execution_count": 20,
   "id": "b596302d-126c-4e05-859d-7a77d0b104d9",
   "metadata": {},
   "outputs": [],
   "source": [
    "reg_data=pd.concat([E_Gen_NE_Nuclear, New_England], ignore_index=True, axis=0).T\n",
    "reg_data.columns = reg_data.iloc[0] \n",
    "reg_data = reg_data.drop(\"Unnamed: 1\").T"
   ]
  },
  {
   "cell_type": "code",
   "execution_count": 21,
   "id": "2d5a5e4d-59f7-49a4-808f-10612c1ae967",
   "metadata": {},
   "outputs": [],
   "source": [
    "reg_data=reg_data.to_numpy()"
   ]
  },
  {
   "cell_type": "code",
   "execution_count": 22,
   "id": "6ca4c5c5-a98f-4f77-9085-9db661f32292",
   "metadata": {},
   "outputs": [],
   "source": [
    "nuclear=reg_data[0,]\n",
    "indicators=reg_data[1:,]"
   ]
  },
  {
   "cell_type": "code",
   "execution_count": 23,
   "id": "a8183b71-e573-49b3-a5d6-13b82bcdad32",
   "metadata": {},
   "outputs": [],
   "source": [
    "df_ind = pd.DataFrame(indicators).T\n",
    "df_out= pd.DataFrame(nuclear)\n",
    "df_out_train=df_out[:-2]\n",
    "df_out_test=df_out[25:]\n",
    "df_ind_train=df_ind[:-2]\n",
    "df_ind_test=df_ind[27:]\n"
   ]
  },
  {
   "cell_type": "code",
   "execution_count": 24,
   "id": "226c313e-96b4-40d4-95be-e476bff40af6",
   "metadata": {},
   "outputs": [],
   "source": [
    "regr = linear_model.LinearRegression()"
   ]
  },
  {
   "cell_type": "code",
   "execution_count": 25,
   "id": "fcac3095-63ee-412a-a7c8-7177ca3f1a4b",
   "metadata": {},
   "outputs": [
    {
     "data": {
      "text/html": [
       "<style>#sk-container-id-3 {color: black;background-color: white;}#sk-container-id-3 pre{padding: 0;}#sk-container-id-3 div.sk-toggleable {background-color: white;}#sk-container-id-3 label.sk-toggleable__label {cursor: pointer;display: block;width: 100%;margin-bottom: 0;padding: 0.3em;box-sizing: border-box;text-align: center;}#sk-container-id-3 label.sk-toggleable__label-arrow:before {content: \"▸\";float: left;margin-right: 0.25em;color: #696969;}#sk-container-id-3 label.sk-toggleable__label-arrow:hover:before {color: black;}#sk-container-id-3 div.sk-estimator:hover label.sk-toggleable__label-arrow:before {color: black;}#sk-container-id-3 div.sk-toggleable__content {max-height: 0;max-width: 0;overflow: hidden;text-align: left;background-color: #f0f8ff;}#sk-container-id-3 div.sk-toggleable__content pre {margin: 0.2em;color: black;border-radius: 0.25em;background-color: #f0f8ff;}#sk-container-id-3 input.sk-toggleable__control:checked~div.sk-toggleable__content {max-height: 200px;max-width: 100%;overflow: auto;}#sk-container-id-3 input.sk-toggleable__control:checked~label.sk-toggleable__label-arrow:before {content: \"▾\";}#sk-container-id-3 div.sk-estimator input.sk-toggleable__control:checked~label.sk-toggleable__label {background-color: #d4ebff;}#sk-container-id-3 div.sk-label input.sk-toggleable__control:checked~label.sk-toggleable__label {background-color: #d4ebff;}#sk-container-id-3 input.sk-hidden--visually {border: 0;clip: rect(1px 1px 1px 1px);clip: rect(1px, 1px, 1px, 1px);height: 1px;margin: -1px;overflow: hidden;padding: 0;position: absolute;width: 1px;}#sk-container-id-3 div.sk-estimator {font-family: monospace;background-color: #f0f8ff;border: 1px dotted black;border-radius: 0.25em;box-sizing: border-box;margin-bottom: 0.5em;}#sk-container-id-3 div.sk-estimator:hover {background-color: #d4ebff;}#sk-container-id-3 div.sk-parallel-item::after {content: \"\";width: 100%;border-bottom: 1px solid gray;flex-grow: 1;}#sk-container-id-3 div.sk-label:hover label.sk-toggleable__label {background-color: #d4ebff;}#sk-container-id-3 div.sk-serial::before {content: \"\";position: absolute;border-left: 1px solid gray;box-sizing: border-box;top: 0;bottom: 0;left: 50%;z-index: 0;}#sk-container-id-3 div.sk-serial {display: flex;flex-direction: column;align-items: center;background-color: white;padding-right: 0.2em;padding-left: 0.2em;position: relative;}#sk-container-id-3 div.sk-item {position: relative;z-index: 1;}#sk-container-id-3 div.sk-parallel {display: flex;align-items: stretch;justify-content: center;background-color: white;position: relative;}#sk-container-id-3 div.sk-item::before, #sk-container-id-3 div.sk-parallel-item::before {content: \"\";position: absolute;border-left: 1px solid gray;box-sizing: border-box;top: 0;bottom: 0;left: 50%;z-index: -1;}#sk-container-id-3 div.sk-parallel-item {display: flex;flex-direction: column;z-index: 1;position: relative;background-color: white;}#sk-container-id-3 div.sk-parallel-item:first-child::after {align-self: flex-end;width: 50%;}#sk-container-id-3 div.sk-parallel-item:last-child::after {align-self: flex-start;width: 50%;}#sk-container-id-3 div.sk-parallel-item:only-child::after {width: 0;}#sk-container-id-3 div.sk-dashed-wrapped {border: 1px dashed gray;margin: 0 0.4em 0.5em 0.4em;box-sizing: border-box;padding-bottom: 0.4em;background-color: white;}#sk-container-id-3 div.sk-label label {font-family: monospace;font-weight: bold;display: inline-block;line-height: 1.2em;}#sk-container-id-3 div.sk-label-container {text-align: center;}#sk-container-id-3 div.sk-container {/* jupyter's `normalize.less` sets `[hidden] { display: none; }` but bootstrap.min.css set `[hidden] { display: none !important; }` so we also need the `!important` here to be able to override the default hidden behavior on the sphinx rendered scikit-learn.org. See: https://github.com/scikit-learn/scikit-learn/issues/21755 */display: inline-block !important;position: relative;}#sk-container-id-3 div.sk-text-repr-fallback {display: none;}</style><div id=\"sk-container-id-3\" class=\"sk-top-container\"><div class=\"sk-text-repr-fallback\"><pre>LinearRegression()</pre><b>In a Jupyter environment, please rerun this cell to show the HTML representation or trust the notebook. <br />On GitHub, the HTML representation is unable to render, please try loading this page with nbviewer.org.</b></div><div class=\"sk-container\" hidden><div class=\"sk-item\"><div class=\"sk-estimator sk-toggleable\"><input class=\"sk-toggleable__control sk-hidden--visually\" id=\"sk-estimator-id-3\" type=\"checkbox\" checked><label for=\"sk-estimator-id-3\" class=\"sk-toggleable__label sk-toggleable__label-arrow\">LinearRegression</label><div class=\"sk-toggleable__content\"><pre>LinearRegression()</pre></div></div></div></div></div>"
      ],
      "text/plain": [
       "LinearRegression()"
      ]
     },
     "execution_count": 25,
     "metadata": {},
     "output_type": "execute_result"
    }
   ],
   "source": [
    "regr.fit(df_ind_train, df_out_train)"
   ]
  },
  {
   "cell_type": "code",
   "execution_count": 26,
   "id": "4fa7d8ce-77f6-4e14-9c7f-b930d7e93cca",
   "metadata": {},
   "outputs": [
    {
     "name": "stdout",
     "output_type": "stream",
     "text": [
      "Coefficients: \n",
      " [[ 0.0055115   0.08108661  0.0022785  -0.01219221  0.94822349]]\n"
     ]
    }
   ],
   "source": [
    "#nuclear_pred = regr.predict(indicators_test)\n",
    "\n",
    "print(\"Coefficients: \\n\", regr.coef_)\n",
    "\n",
    "#print(\"Mean squared error: %.2f\" % mean_squared_error(nuclear_test, nuclear_pred))"
   ]
  },
  {
   "cell_type": "markdown",
   "id": "c134be86-65e2-4e4e-863a-b9505cf70ce1",
   "metadata": {},
   "source": [
    "# Non-Hydro Power Renewable"
   ]
  },
  {
   "cell_type": "code",
   "execution_count": 27,
   "id": "ca00d9c5-a0fd-4003-896f-04be1596d823",
   "metadata": {},
   "outputs": [],
   "source": [
    "##GET \n",
    "E_Gen_NE = E_Gen.iloc[18:26,:]#New England\n",
    "E_Gen_NE_Nonhydro=E_Gen_NE[(E_Gen_NE==\"Nonhydro renewables\").any(axis=1)]\n",
    "E_Gen_NE_Nonhydro=E_Gen_NE_Nonhydro.drop([\"remove\",\"map\",\"linechart\",\"units\",\"source key\"], axis=1)"
   ]
  },
  {
   "cell_type": "code",
   "execution_count": 28,
   "id": "18c8dab5-f4e0-42d6-8ba8-e927b7b21087",
   "metadata": {},
   "outputs": [],
   "source": [
    "reg_data=pd.concat([E_Gen_NE_Nonhydro, New_England], ignore_index=True, axis=0).T\n",
    "reg_data.columns = reg_data.iloc[0] \n",
    "reg_data = reg_data.drop(\"Unnamed: 1\").T"
   ]
  },
  {
   "cell_type": "code",
   "execution_count": 29,
   "id": "42909583-48b0-417b-bd82-a1d46ac90319",
   "metadata": {},
   "outputs": [],
   "source": [
    "reg_data=reg_data.to_numpy()"
   ]
  },
  {
   "cell_type": "code",
   "execution_count": 30,
   "id": "b13c9b69-d5a8-45cd-8160-d3a3c8dcbd52",
   "metadata": {},
   "outputs": [
    {
     "data": {
      "text/plain": [
       "array([[100.1, 100.6, 100.7, 100.0, 99.0, 98.4, 98.1, 97.5, 96.3, 83.3,\n",
       "        92.2, 94.7, 95.2, 96.8, 97.3, 98.2, 99.1, 99.8, 99.5, 98.4, 96.3,\n",
       "        96.2, 96.4, 97.2, 98.1, 98.7, 99.4, 100.2],\n",
       "       [860.0, 864.0, 874.0, 882.0, 907.0, 905.0, 903.0, 904.0, 904.0,\n",
       "        971.0, 936.0, 938.0, 1019.0, 974.0, 967.0, 959.0, 949.0, 939.0,\n",
       "        942.0, 948.0, 951.0, 950.0, 952.0, 956.0, 961.0, 967.0, 973.0,\n",
       "        979.0],\n",
       "       [5988.0, 5998.0, 6006.0, 6014.0, 6022.0, 6034.0, 6045.0, 6056.0,\n",
       "        6019.0, 6010.0, 6016.0, 6026.0, 6038.0, 6063.0, 6078.0, 6090.0,\n",
       "        6101.0, 6099.0, 6100.0, 6105.0, 6113.0, 6121.0, 6129.0, 6135.0,\n",
       "        6142.0, 6151.0, 6159.0, 6168.0],\n",
       "       [7.5, 7.5, 7.5, 7.5, 7.5, 7.5, 7.5, 7.6, 7.6, 6.4, 6.8, 7.0, 7.1,\n",
       "        7.1, 7.2, 7.3, 7.4, 7.4, 7.5, 7.5, 7.6, 7.6, 7.5, 7.5, 7.5, 7.5,\n",
       "        7.5, 7.5]], dtype=object)"
      ]
     },
     "execution_count": 30,
     "metadata": {},
     "output_type": "execute_result"
    }
   ],
   "source": [
    "Nonhydro=reg_data[0,]\n",
    "indicators=reg_data[1:,]\n",
    "indicators"
   ]
  },
  {
   "cell_type": "code",
   "execution_count": 31,
   "id": "94fc3b5c-41b3-4e27-94d3-3440b734a138",
   "metadata": {},
   "outputs": [],
   "source": [
    "df_ind = pd.DataFrame(indicators).T\n",
    "df_out= pd.DataFrame(Nonhydro)\n",
    "df_out_train=df_out[:-2]\n",
    "df_out_test=df_out[25:]\n",
    "df_ind_train=df_ind[:-2]\n",
    "df_ind_test=df_ind[27:]\n"
   ]
  },
  {
   "cell_type": "code",
   "execution_count": 32,
   "id": "8ef3709b-763a-4fca-ad27-e82dfc14ee0e",
   "metadata": {},
   "outputs": [],
   "source": [
    "regr = linear_model.LinearRegression()"
   ]
  },
  {
   "cell_type": "code",
   "execution_count": 33,
   "id": "54821c7c-3b6c-4227-8894-b89b9965f037",
   "metadata": {},
   "outputs": [
    {
     "data": {
      "text/html": [
       "<style>#sk-container-id-4 {color: black;background-color: white;}#sk-container-id-4 pre{padding: 0;}#sk-container-id-4 div.sk-toggleable {background-color: white;}#sk-container-id-4 label.sk-toggleable__label {cursor: pointer;display: block;width: 100%;margin-bottom: 0;padding: 0.3em;box-sizing: border-box;text-align: center;}#sk-container-id-4 label.sk-toggleable__label-arrow:before {content: \"▸\";float: left;margin-right: 0.25em;color: #696969;}#sk-container-id-4 label.sk-toggleable__label-arrow:hover:before {color: black;}#sk-container-id-4 div.sk-estimator:hover label.sk-toggleable__label-arrow:before {color: black;}#sk-container-id-4 div.sk-toggleable__content {max-height: 0;max-width: 0;overflow: hidden;text-align: left;background-color: #f0f8ff;}#sk-container-id-4 div.sk-toggleable__content pre {margin: 0.2em;color: black;border-radius: 0.25em;background-color: #f0f8ff;}#sk-container-id-4 input.sk-toggleable__control:checked~div.sk-toggleable__content {max-height: 200px;max-width: 100%;overflow: auto;}#sk-container-id-4 input.sk-toggleable__control:checked~label.sk-toggleable__label-arrow:before {content: \"▾\";}#sk-container-id-4 div.sk-estimator input.sk-toggleable__control:checked~label.sk-toggleable__label {background-color: #d4ebff;}#sk-container-id-4 div.sk-label input.sk-toggleable__control:checked~label.sk-toggleable__label {background-color: #d4ebff;}#sk-container-id-4 input.sk-hidden--visually {border: 0;clip: rect(1px 1px 1px 1px);clip: rect(1px, 1px, 1px, 1px);height: 1px;margin: -1px;overflow: hidden;padding: 0;position: absolute;width: 1px;}#sk-container-id-4 div.sk-estimator {font-family: monospace;background-color: #f0f8ff;border: 1px dotted black;border-radius: 0.25em;box-sizing: border-box;margin-bottom: 0.5em;}#sk-container-id-4 div.sk-estimator:hover {background-color: #d4ebff;}#sk-container-id-4 div.sk-parallel-item::after {content: \"\";width: 100%;border-bottom: 1px solid gray;flex-grow: 1;}#sk-container-id-4 div.sk-label:hover label.sk-toggleable__label {background-color: #d4ebff;}#sk-container-id-4 div.sk-serial::before {content: \"\";position: absolute;border-left: 1px solid gray;box-sizing: border-box;top: 0;bottom: 0;left: 50%;z-index: 0;}#sk-container-id-4 div.sk-serial {display: flex;flex-direction: column;align-items: center;background-color: white;padding-right: 0.2em;padding-left: 0.2em;position: relative;}#sk-container-id-4 div.sk-item {position: relative;z-index: 1;}#sk-container-id-4 div.sk-parallel {display: flex;align-items: stretch;justify-content: center;background-color: white;position: relative;}#sk-container-id-4 div.sk-item::before, #sk-container-id-4 div.sk-parallel-item::before {content: \"\";position: absolute;border-left: 1px solid gray;box-sizing: border-box;top: 0;bottom: 0;left: 50%;z-index: -1;}#sk-container-id-4 div.sk-parallel-item {display: flex;flex-direction: column;z-index: 1;position: relative;background-color: white;}#sk-container-id-4 div.sk-parallel-item:first-child::after {align-self: flex-end;width: 50%;}#sk-container-id-4 div.sk-parallel-item:last-child::after {align-self: flex-start;width: 50%;}#sk-container-id-4 div.sk-parallel-item:only-child::after {width: 0;}#sk-container-id-4 div.sk-dashed-wrapped {border: 1px dashed gray;margin: 0 0.4em 0.5em 0.4em;box-sizing: border-box;padding-bottom: 0.4em;background-color: white;}#sk-container-id-4 div.sk-label label {font-family: monospace;font-weight: bold;display: inline-block;line-height: 1.2em;}#sk-container-id-4 div.sk-label-container {text-align: center;}#sk-container-id-4 div.sk-container {/* jupyter's `normalize.less` sets `[hidden] { display: none; }` but bootstrap.min.css set `[hidden] { display: none !important; }` so we also need the `!important` here to be able to override the default hidden behavior on the sphinx rendered scikit-learn.org. See: https://github.com/scikit-learn/scikit-learn/issues/21755 */display: inline-block !important;position: relative;}#sk-container-id-4 div.sk-text-repr-fallback {display: none;}</style><div id=\"sk-container-id-4\" class=\"sk-top-container\"><div class=\"sk-text-repr-fallback\"><pre>LinearRegression()</pre><b>In a Jupyter environment, please rerun this cell to show the HTML representation or trust the notebook. <br />On GitHub, the HTML representation is unable to render, please try loading this page with nbviewer.org.</b></div><div class=\"sk-container\" hidden><div class=\"sk-item\"><div class=\"sk-estimator sk-toggleable\"><input class=\"sk-toggleable__control sk-hidden--visually\" id=\"sk-estimator-id-4\" type=\"checkbox\" checked><label for=\"sk-estimator-id-4\" class=\"sk-toggleable__label sk-toggleable__label-arrow\">LinearRegression</label><div class=\"sk-toggleable__content\"><pre>LinearRegression()</pre></div></div></div></div></div>"
      ],
      "text/plain": [
       "LinearRegression()"
      ]
     },
     "execution_count": 33,
     "metadata": {},
     "output_type": "execute_result"
    }
   ],
   "source": [
    "regr.fit(df_ind_train,df_out_train)"
   ]
  },
  {
   "cell_type": "code",
   "execution_count": 34,
   "id": "c344c520-eccd-44b6-baa1-d5dad822b28f",
   "metadata": {},
   "outputs": [
    {
     "name": "stdout",
     "output_type": "stream",
     "text": [
      "Coefficients: \n",
      " [[ 4.63577879  0.24309191  0.5042938  14.47509685]]\n"
     ]
    }
   ],
   "source": [
    "#nonhydro_pred = regr.predict(indicators_test)\n",
    "\n",
    "print(\"Coefficients: \\n\", regr.coef_)\n",
    "\n",
    "#print(\"Mean squared error: %.2f\" % mean_squared_error(Nonhydro_test, nonhydro_pred))"
   ]
  },
  {
   "cell_type": "markdown",
   "id": "ad79f359-2236-4e32-8d2e-de916eab78e0",
   "metadata": {},
   "source": [
    "# Mid Continent"
   ]
  },
  {
   "cell_type": "code",
   "execution_count": 35,
   "id": "51c30906-8ece-4a7c-bf22-b489e6bf0be9",
   "metadata": {},
   "outputs": [],
   "source": [
    "##NEW ENGLAND ECONOMIC INDICATORS##\n",
    "Mid=Macro[(Macro == 'Middle Atlantic').any(axis=1)] #for new england only \n",
    "Mid = Mid.drop([\"remove\",\"map\",\"linechart\",\"units\",\"source key\"], axis=1)\n",
    "Mid=Mid"
   ]
  },
  {
   "cell_type": "code",
   "execution_count": 36,
   "id": "15054dcb-e937-4dad-a23d-391903120dbf",
   "metadata": {},
   "outputs": [],
   "source": [
    "\n",
    "E_Gen_MA = E_Gen.iloc[36:44,:]#Mid-at\n",
    "E_Gen_MA_Nonhydro=E_Gen_MA[(E_Gen_MA==\"Nonhydro renewables\").any(axis=1)]\n",
    "E_Gen_MA_Nonhydro=E_Gen_MA_Nonhydro.drop([\"remove\",\"map\",\"linechart\",\"units\",\"source key\"], axis=1)"
   ]
  },
  {
   "cell_type": "code",
   "execution_count": 37,
   "id": "b6b8f119-12a4-494e-89d0-22e55635a297",
   "metadata": {},
   "outputs": [],
   "source": [
    "reg_data=pd.concat([E_Gen_MA_Nonhydro, Mid], ignore_index=True, axis=0).T\n",
    "reg_data.columns = reg_data.iloc[0] \n",
    "reg_data = reg_data.drop(\"Unnamed: 1\").T"
   ]
  },
  {
   "cell_type": "code",
   "execution_count": null,
   "id": "a8a825d2-1842-442b-b166-b872b3b5ca63",
   "metadata": {},
   "outputs": [],
   "source": []
  },
  {
   "cell_type": "code",
   "execution_count": 38,
   "id": "b0682fcb-0839-4a18-b567-bef8c02abad7",
   "metadata": {},
   "outputs": [],
   "source": [
    "reg_data=reg_data.to_numpy()"
   ]
  },
  {
   "cell_type": "code",
   "execution_count": 39,
   "id": "38b8e4e4-01eb-4e60-96a0-af8cfa369e64",
   "metadata": {},
   "outputs": [
    {
     "data": {
      "text/plain": [
       "array([[99.9, 100.3, 100.5, 99.9, 98.5, 97.7, 97.1, 96.3, 95.2, 79.9,\n",
       "        90.2, 92.4, 93.0, 94.3, 94.6, 95.6, 96.4, 97.1, 96.6, 96.0, 94.0,\n",
       "        93.8, 93.8, 94.4, 94.9, 95.4, 95.9, 96.6],\n",
       "       [2253.0, 2264.0, 2286.0, 2295.0, 2327.0, 2334.0, 2338.0, 2342.0,\n",
       "        2350.0, 2534.0, 2479.0, 2412.0, 2660.0, 2498.0, 2477.0, 2439.0,\n",
       "        2414.0, 2393.0, 2394.0, 2401.0, 2417.0, 2418.0, 2422.0, 2431.0,\n",
       "        2446.0, 2461.0, 2475.0, 2490.0],\n",
       "       [16240.0, 16265.0, 16296.0, 16328.0, 16360.0, 16402.0, 16430.0,\n",
       "        16457.0, 16352.0, 16267.0, 16204.0, 16139.0, 16071.0, 16040.0,\n",
       "        16076.0, 16101.0, 16123.0, 16115.0, 16114.0, 16125.0, 16140.0,\n",
       "        16161.0, 16180.0, 16202.0, 16224.0, 16248.0, 16273.0, 16300.0],\n",
       "       [19.8, 19.8, 19.9, 20.0, 20.0, 20.0, 20.1, 20.1, 20.1, 16.7, 17.9,\n",
       "        18.4, 18.5, 18.7, 18.9, 19.2, 19.4, 19.6, 19.7, 19.8, 20.0, 19.9,\n",
       "        19.8, 19.8, 19.8, 19.8, 19.8, 19.8]], dtype=object)"
      ]
     },
     "execution_count": 39,
     "metadata": {},
     "output_type": "execute_result"
    }
   ],
   "source": [
    "Nonhydro=reg_data[0,]\n",
    "indicators=reg_data[1:,]\n",
    "indicators"
   ]
  },
  {
   "cell_type": "code",
   "execution_count": 40,
   "id": "9c062426-9fb5-4ff4-880b-de5c856390c9",
   "metadata": {},
   "outputs": [],
   "source": [
    "df_ind = pd.DataFrame(indicators).T\n",
    "df_out= pd.DataFrame(Nonhydro)\n",
    "df_out_train=df_out[:-2]\n",
    "df_out_test=df_out[25:]\n",
    "df_ind_train=df_ind[:-2]\n",
    "df_ind_test=df_ind[27:]"
   ]
  },
  {
   "cell_type": "code",
   "execution_count": 41,
   "id": "69c6be47-44dd-492c-88b8-138f3a063d18",
   "metadata": {},
   "outputs": [],
   "source": [
    "regr = linear_model.LinearRegression()"
   ]
  },
  {
   "cell_type": "code",
   "execution_count": 42,
   "id": "fd53aaa6-d634-4f34-83d0-79cf771ccbf5",
   "metadata": {},
   "outputs": [
    {
     "data": {
      "text/html": [
       "<style>#sk-container-id-5 {color: black;background-color: white;}#sk-container-id-5 pre{padding: 0;}#sk-container-id-5 div.sk-toggleable {background-color: white;}#sk-container-id-5 label.sk-toggleable__label {cursor: pointer;display: block;width: 100%;margin-bottom: 0;padding: 0.3em;box-sizing: border-box;text-align: center;}#sk-container-id-5 label.sk-toggleable__label-arrow:before {content: \"▸\";float: left;margin-right: 0.25em;color: #696969;}#sk-container-id-5 label.sk-toggleable__label-arrow:hover:before {color: black;}#sk-container-id-5 div.sk-estimator:hover label.sk-toggleable__label-arrow:before {color: black;}#sk-container-id-5 div.sk-toggleable__content {max-height: 0;max-width: 0;overflow: hidden;text-align: left;background-color: #f0f8ff;}#sk-container-id-5 div.sk-toggleable__content pre {margin: 0.2em;color: black;border-radius: 0.25em;background-color: #f0f8ff;}#sk-container-id-5 input.sk-toggleable__control:checked~div.sk-toggleable__content {max-height: 200px;max-width: 100%;overflow: auto;}#sk-container-id-5 input.sk-toggleable__control:checked~label.sk-toggleable__label-arrow:before {content: \"▾\";}#sk-container-id-5 div.sk-estimator input.sk-toggleable__control:checked~label.sk-toggleable__label {background-color: #d4ebff;}#sk-container-id-5 div.sk-label input.sk-toggleable__control:checked~label.sk-toggleable__label {background-color: #d4ebff;}#sk-container-id-5 input.sk-hidden--visually {border: 0;clip: rect(1px 1px 1px 1px);clip: rect(1px, 1px, 1px, 1px);height: 1px;margin: -1px;overflow: hidden;padding: 0;position: absolute;width: 1px;}#sk-container-id-5 div.sk-estimator {font-family: monospace;background-color: #f0f8ff;border: 1px dotted black;border-radius: 0.25em;box-sizing: border-box;margin-bottom: 0.5em;}#sk-container-id-5 div.sk-estimator:hover {background-color: #d4ebff;}#sk-container-id-5 div.sk-parallel-item::after {content: \"\";width: 100%;border-bottom: 1px solid gray;flex-grow: 1;}#sk-container-id-5 div.sk-label:hover label.sk-toggleable__label {background-color: #d4ebff;}#sk-container-id-5 div.sk-serial::before {content: \"\";position: absolute;border-left: 1px solid gray;box-sizing: border-box;top: 0;bottom: 0;left: 50%;z-index: 0;}#sk-container-id-5 div.sk-serial {display: flex;flex-direction: column;align-items: center;background-color: white;padding-right: 0.2em;padding-left: 0.2em;position: relative;}#sk-container-id-5 div.sk-item {position: relative;z-index: 1;}#sk-container-id-5 div.sk-parallel {display: flex;align-items: stretch;justify-content: center;background-color: white;position: relative;}#sk-container-id-5 div.sk-item::before, #sk-container-id-5 div.sk-parallel-item::before {content: \"\";position: absolute;border-left: 1px solid gray;box-sizing: border-box;top: 0;bottom: 0;left: 50%;z-index: -1;}#sk-container-id-5 div.sk-parallel-item {display: flex;flex-direction: column;z-index: 1;position: relative;background-color: white;}#sk-container-id-5 div.sk-parallel-item:first-child::after {align-self: flex-end;width: 50%;}#sk-container-id-5 div.sk-parallel-item:last-child::after {align-self: flex-start;width: 50%;}#sk-container-id-5 div.sk-parallel-item:only-child::after {width: 0;}#sk-container-id-5 div.sk-dashed-wrapped {border: 1px dashed gray;margin: 0 0.4em 0.5em 0.4em;box-sizing: border-box;padding-bottom: 0.4em;background-color: white;}#sk-container-id-5 div.sk-label label {font-family: monospace;font-weight: bold;display: inline-block;line-height: 1.2em;}#sk-container-id-5 div.sk-label-container {text-align: center;}#sk-container-id-5 div.sk-container {/* jupyter's `normalize.less` sets `[hidden] { display: none; }` but bootstrap.min.css set `[hidden] { display: none !important; }` so we also need the `!important` here to be able to override the default hidden behavior on the sphinx rendered scikit-learn.org. See: https://github.com/scikit-learn/scikit-learn/issues/21755 */display: inline-block !important;position: relative;}#sk-container-id-5 div.sk-text-repr-fallback {display: none;}</style><div id=\"sk-container-id-5\" class=\"sk-top-container\"><div class=\"sk-text-repr-fallback\"><pre>LinearRegression()</pre><b>In a Jupyter environment, please rerun this cell to show the HTML representation or trust the notebook. <br />On GitHub, the HTML representation is unable to render, please try loading this page with nbviewer.org.</b></div><div class=\"sk-container\" hidden><div class=\"sk-item\"><div class=\"sk-estimator sk-toggleable\"><input class=\"sk-toggleable__control sk-hidden--visually\" id=\"sk-estimator-id-5\" type=\"checkbox\" checked><label for=\"sk-estimator-id-5\" class=\"sk-toggleable__label sk-toggleable__label-arrow\">LinearRegression</label><div class=\"sk-toggleable__content\"><pre>LinearRegression()</pre></div></div></div></div></div>"
      ],
      "text/plain": [
       "LinearRegression()"
      ]
     },
     "execution_count": 42,
     "metadata": {},
     "output_type": "execute_result"
    }
   ],
   "source": [
    "regr.fit(df_ind_train, df_out_train)"
   ]
  },
  {
   "cell_type": "code",
   "execution_count": 43,
   "id": "2e4fba18-1fe7-47f9-bb0d-722f828f082a",
   "metadata": {},
   "outputs": [
    {
     "name": "stdout",
     "output_type": "stream",
     "text": [
      "Coefficients: \n",
      " [[ -9.27777091   0.42257829  -0.42440913 170.79045959]]\n"
     ]
    }
   ],
   "source": [
    "#nonhydro_pred = regr.predict(indicators_test)\n",
    "\n",
    "print(\"Coefficients: \\n\", regr.coef_)\n",
    "\n",
    "#print(\"Mean squared error: %.2f\" % mean_squared_error(Nonhydro_test, nonhydro_pred))"
   ]
  },
  {
   "cell_type": "code",
   "execution_count": null,
   "id": "d05784c5-4bf5-431d-99f2-6b001e8c8039",
   "metadata": {},
   "outputs": [],
   "source": []
  }
 ],
 "metadata": {
  "kernelspec": {
   "display_name": "Python 3 (ipykernel)",
   "language": "python",
   "name": "python3"
  },
  "language_info": {
   "codemirror_mode": {
    "name": "ipython",
    "version": 3
   },
   "file_extension": ".py",
   "mimetype": "text/x-python",
   "name": "python",
   "nbconvert_exporter": "python",
   "pygments_lexer": "ipython3",
   "version": "3.9.13"
  }
 },
 "nbformat": 4,
 "nbformat_minor": 5
}
